{
 "cells": [
  {
   "cell_type": "markdown",
   "metadata": {},
   "source": [
    "The starting point is the familiar Taylor series expansion for a single variable:\n",
    "\\begin{equation}\n",
    "f(x+dx) = f(x) + \\frac{df}{dx}dx + \\frac{1}{2!}\\frac{d^2 f}{dx^2}dx^2 + \\frac{1}{3!}\\frac{d^3 f}{dx^3}dx^3 + \\cdots\n",
    "\\end{equation}\n",
    "\n",
    "For a function of multiple variables (which we shall take to be $x$, $y$ and $z$ in this case), we want to find the series expansion in terms of $dx$, $dy$ and $dz$. That is we want to develop a series expansion for\n",
    "\n",
    "$f(x+dx,y+dy,z+dz)$\n",
    "\n",
    "First we keep $y+dy$ and $z+dz$ constant and expand only in terms of $x$ using the familiar series expansion for a single variable:"
   ]
  },
  {
   "cell_type": "markdown",
   "metadata": {},
   "source": [
    "\\begin{eqnarray}\n",
    "f(x+dx,y+dy,z+dz)=f(x,y+dy,z+dz)+\\frac{\\partial f(x,y+dy,z+dz)}{\\partial x}dx + \\frac{1}{2}\\frac{\\partial^2 f(x,y+dy,z+dz)}{\\partial x^2}dx^2+...\n",
    "\\end{eqnarray}"
   ]
  },
  {
   "cell_type": "markdown",
   "metadata": {},
   "source": [
    "In the next step, expand the first term on the right hand side as a series in $y$\n",
    "\n",
    "\\begin{eqnarray}\n",
    "&=& f(x,y,z+dz) + \\frac{\\partial }{\\partial y}f(x,y,z+dz)dy + \\frac{1}{2}\\frac{\\partial^2 }{\\partial y^2}f(x,y,z+dz)dy^2\\nonumber \\\\\n",
    "&+&\\frac{\\partial }{\\partial x}f(x,y+dy,z+dz)dx + \\frac{1}{2}\\frac{\\partial^2 }{\\partial x^2}f(x,y+dy,z+dz)dx^2...\\nonumber \\\\\n",
    "\\end{eqnarray}\n",
    "\n",
    "And now expand the first term as a series in $z$.\n",
    "\n",
    "\\begin{eqnarray}\n",
    "&& = f(x,y,z) + \\frac{\\partial}{\\partial z}f(x,y,z)dz + \\frac{1}{2}\\frac{\\partial^2}{\\partial z^2}f(x,y,z)dz^2 \\nonumber \\\\\n",
    "&+& \\frac{\\partial }{\\partial y}f(x,y,z+dz)dy + \\frac{1}{2}\\frac{\\partial^2 }{\\partial y^2}f(x,y,z+dz)dy^2\\nonumber \\\\\n",
    "&+&\\frac{\\partial }{\\partial x}f(x,y+dy,z+dz)dx + \\frac{1}{2}\\frac{\\partial^2 }{\\partial x^2}f(x,y+dy,z+dz)dx^2...\n",
    "\\end{eqnarray}"
   ]
  },
  {
   "cell_type": "markdown",
   "metadata": {},
   "source": [
    "expanding the fourth term in a series in $z$ (the fifth term is not expanded as we want terms only up to second order in the differentials):\n",
    "\n",
    "\\begin{eqnarray}\n",
    "&& f(x,y,z) + \\frac{\\partial}{\\partial z}f(x,y,z)dz + \\frac{1}{2}\\frac{\\partial^2}{\\partial z^2}f(x,y,z)dz^2 \\nonumber \\\\\n",
    "&+& \\frac{\\partial}{\\partial y}f(x,y,z)dy+\\frac{\\partial^2}{\\partial y \\partial z}f(x,y,z)dydz+\\frac{1}{2}\\frac{\\partial^2}{\\partial y^2}f(x,y,z)dy^2 \\nonumber \\\\\n",
    "&+& \\frac{\\partial }{\\partial x}f(x,y+dy,z+dz)dx \\nonumber \\\\\n",
    "&+& \\frac{1}{2}\\frac{\\partial^2 }{\\partial x^2}f(x,y+dy,z+dz)dx^2\n",
    "\\end{eqnarray}\n"
   ]
  },
  {
   "cell_type": "markdown",
   "metadata": {},
   "source": [
    "expanding the seventh term as a series in $y$:"
   ]
  },
  {
   "cell_type": "markdown",
   "metadata": {},
   "source": [
    "\\begin{eqnarray}\n",
    "&& f(x,y,z) + \\frac{\\partial}{\\partial z}f(x,y,z)dz + \\frac{1}{2}\\frac{\\partial^2}{\\partial z^2}f(x,y,z)dz^2 \\nonumber \\\\\n",
    "&+& \\frac{\\partial}{\\partial y}f(x,y,z)dy+\\frac{\\partial^2}{\\partial y \\partial z}f(x,y,z)dydz+\\frac{1}{2}\\frac{\\partial^2}{\\partial y^2}f(x,y,z)dy^2 \\nonumber \\\\\n",
    "&+& \\frac{\\partial }{\\partial x}f(x,y,z+dz)dx + \\frac{\\partial^2 }{\\partial x\\partial y}f(x,y,z+dz)dxdy\\nonumber \\\\\n",
    "&+& \\frac{1}{2}\\frac{\\partial^2 }{\\partial x^2}f(x,y+dy,z+dz)dx^2\n",
    "\\end{eqnarray}"
   ]
  },
  {
   "cell_type": "markdown",
   "metadata": {},
   "source": [
    "expanding the seventh term as a series in $z$:"
   ]
  },
  {
   "cell_type": "markdown",
   "metadata": {},
   "source": [
    "\\begin{eqnarray}\n",
    "&& f(x,y,z) + \\frac{\\partial}{\\partial z}f(x,y,z)dz + \\frac{1}{2}\\frac{\\partial^2}{\\partial z^2}f(x,y,z)dz^2 \\nonumber \\\\\n",
    "&+& \\frac{\\partial}{\\partial y}f(x,y,z)dy+\\frac{\\partial^2}{\\partial y \\partial z}f(x,y,z)dydz+\\frac{1}{2}\\frac{\\partial^2}{\\partial y^2}f(x,y,z)dy^2 \\nonumber \\\\\n",
    "&+& \\frac{\\partial }{\\partial x}f(x,y,z)dx +  \\frac{\\partial^2 }{\\partial x\\partial z}f(x,y,z)dxdz  + \\frac{\\partial^2 }{\\partial x\\partial y}f(x,y,z+dz)dxdy\\nonumber \\\\\n",
    "&+& \\frac{1}{2}\\frac{\\partial^2 }{\\partial x^2}f(x,y+dy,z+dz)dx^2\n",
    "\\end{eqnarray}"
   ]
  },
  {
   "cell_type": "markdown",
   "metadata": {},
   "source": [
    "any other expansions will lead to higher order terms, so omitting those, up to second order, we have:\n",
    "\n",
    "\\begin{eqnarray}\n",
    "&& f(x,y,z) + \\frac{\\partial}{\\partial z}f(x,y,z)dz + \\frac{1}{2}\\frac{\\partial^2}{\\partial z^2}f(x,y,z)dz^2 \\nonumber \\\\\n",
    "&+& \\frac{\\partial}{\\partial y}f(x,y,z)dy+\\frac{\\partial^2}{\\partial y \\partial z}f(x,y,z)dydz+\\frac{1}{2}\\frac{\\partial^2}{\\partial y^2}f(x,y,z)dy^2 \\nonumber \\\\\n",
    "&+& \\frac{\\partial }{\\partial x}f(x,y,z)dx +  \\frac{\\partial^2 }{\\partial x\\partial z}f(x,y,z)dxdz  + \\frac{\\partial^2 }{\\partial x\\partial y}f(x,y,z)dxdy\\nonumber \\\\\n",
    "&+& \\frac{1}{2}\\frac{\\partial^2 }{\\partial x^2}f(x,y,z)dx^2\n",
    "\\end{eqnarray}"
   ]
  },
  {
   "cell_type": "markdown",
   "metadata": {},
   "source": []
  },
  {
   "cell_type": "markdown",
   "metadata": {},
   "source": [
    "The whole thing can be written as\n",
    "\\begin{eqnarray}\n",
    "f(x+dx,y+dy,z+dz) &=& f(x,y,z)  \\nonumber \\\\\n",
    "&+& \\frac{\\partial f}{\\partial x}dx + \\frac{\\partial f}{\\partial y}dy + \\frac{\\partial f}{\\partial z}dz \\nonumber \\\\\n",
    "&+& \\frac{1}{2}\\frac{\\partial^2 f}{\\partial x^2}dx^2+\\frac{1}{2}\\frac{\\partial^2 f}{\\partial y^2}dy^2+ \\frac{1}{2}\\frac{\\partial^2 f}{\\partial z^2}dz^2 \\nonumber \\\\\n",
    "&+& \\frac{\\partial^2f}{\\partial x\\partial y} dxdy + \\frac{\\partial^2f}{\\partial y\\partial z} dydz + \\frac{\\partial^2f}{\\partial z\\partial x} dzdx\n",
    "\\end{eqnarray}"
   ]
  },
  {
   "cell_type": "markdown",
   "metadata": {},
   "source": [
    "The first order terms (terms 2, 3, 4 on the right hand side) can be written as:\n",
    "\n",
    "\\begin{eqnarray}\n",
    "\\left(\\frac{\\partial f}{\\partial x} , \\frac{\\partial f}{\\partial y} , \\frac{\\partial f}{\\partial z}\\right)\n",
    "\\cdot\n",
    "\\left(\n",
    "\\begin{array}{r}\n",
    "dx & \\\\\n",
    "dy &\\\\\n",
    "dz &\\\\\n",
    "\\end{array}\n",
    "\\right)\n",
    "\\end{eqnarray}\n",
    "\n",
    "The above is the first-order change in $f$ due to changes in $x$, $y$ and $z$.\n",
    "\n",
    "**At an extremal point (maximum or minimum) the above is zero.**"
   ]
  },
  {
   "cell_type": "markdown",
   "metadata": {},
   "source": [
    "While the second order terms (terms 5 to 10) can be written as\n",
    "\n",
    "\\begin{eqnarray}\n",
    "\\left(dx , dy , dz\\right)\n",
    "\\cdot\n",
    "\\left( \\begin{array}{rrr}\n",
    "\\frac{\\partial^2 f}{\\partial x^2} & \\frac{\\partial^2 f}{\\partial x \\partial y} & \\frac{\\partial^2 f}{\\partial x \\partial z} \\\\\n",
    "\\frac{\\partial^2 f}{\\partial y \\partial x} & \\frac{\\partial^2 f}{\\partial y^2} & \\frac{\\partial^2 f}{\\partial y \\partial z} \\\\\n",
    "\\frac{\\partial^2 f}{\\partial z \\partial x} & \\frac{\\partial^2 f}{\\partial z \\partial y} & \\frac{\\partial^2 f}{\\partial z^2} \\\\\n",
    "\\end{array} \n",
    "\\right)\n",
    "\\cdot\n",
    "\\left(\n",
    "\\begin{array}{r}\n",
    "dx & \\\\\n",
    "dy &\\\\\n",
    "dz &\\\\\n",
    "\\end{array}\n",
    "\\right)\n",
    "\\end{eqnarray}\n",
    "\n",
    "The above are the second-order changes in $f$ due to changes in $x$, $y$ and $z$. \n",
    "\n",
    "**For a minimum, the above is positive and for a maximum, the above is negative.**"
   ]
  },
  {
   "cell_type": "markdown",
   "metadata": {},
   "source": [
    "**The matrix above is the Hessian matrix.**"
   ]
  },
  {
   "cell_type": "code",
   "execution_count": null,
   "metadata": {},
   "outputs": [],
   "source": []
  }
 ],
 "metadata": {
  "kernelspec": {
   "display_name": "Python 3",
   "language": "python",
   "name": "python3"
  },
  "language_info": {
   "codemirror_mode": {
    "name": "ipython",
    "version": 3
   },
   "file_extension": ".py",
   "mimetype": "text/x-python",
   "name": "python",
   "nbconvert_exporter": "python",
   "pygments_lexer": "ipython3",
   "version": "3.6.7"
  }
 },
 "nbformat": 4,
 "nbformat_minor": 2
}
