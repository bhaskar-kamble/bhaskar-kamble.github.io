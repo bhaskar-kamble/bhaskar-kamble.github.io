{
 "cells": [
  {
   "cell_type": "markdown",
   "metadata": {},
   "source": [
    "This is the first in a series of posts about mathematicans from the Indian subcontinent.\n",
    "\n",
    "Bhaskaracharya (1114-1185) was one of the greatest mathematicians the world has produced. His major work is the *Siddhanta Shiromani*, which consists of four parts: *Lilavati*, *Bijaganita*, *Grahaganita* and *Goladhyaya*. \n",
    "\n",
    "While the last three are more advanced texts, *Lilavati* is a textbook for learning the basics of mathematics. In fact it was used as a text book in Indian Ashramas and Gurukuls for quite some time. It is written in a light-hearted, sometimes humorous style.\n",
    "\n",
    "I was going through an English translation of the *Lilavati* (Bhaskarachaya wrote it in Sanskrit), and was amazed to find the following in the book:-\n",
    "\n",
    "(1) All the arithmetic rules taught in elementary school for addition, subtraction, and division, multiplication, finding square roots and cube roots for integers, all these are clearly defined and described in Lilavati in the part which deals with arithmetic (this forms the very beginning of the book).\n",
    "\n",
    "(2) All the rules taught in school for manipulating fractions: addition, subtraction, multiplication, and division of fractions, as well as finding square roots and cube roots of fractions are also defined and described in the same part.\n",
    "\n",
    "(3) The basic algebra taught in school – that of representing an unknown quantity (invariably *x*) by a symbol and setting up an algebraic equation and solving it to find the value of that quantity, is described in Lilavati in full detail. In fact the chapter dealing with this seems to be straight out of a modern school text book, with problems such as\n",
    "\n",
    "<img src=\"./images/Bhaskaracharya/Algebra_Lotus.jpg\" width=\"500\">\n",
    "\n",
    "which means:\n",
    "\n",
    "“From a bunch of lotuses, one third are offered to Lord Shiva, one fifth to Lord Vishnu, one sixth to the sun,  one fourth to the goddess. The remaining six are offered to the Guru. Find quickly the number of lotuses in the bunch.”\n",
    "\n",
    "(4) Explicit rules on handling zero. What happens when you multiply or divide something by zero. Here it strikes one that the notion of a limit is invoked, which was introduced in the rest of the world centuries later. So for example, in the chapter on zero, he asks of the reader to find, using the rules described earlier in the text, a number which, when multiplied by zero and added to half the result, and the result, upon being multiplied by three and then divided by zero, give 63. The original Sanskrit verse from *Lilavati* is shown below:\n",
    "\n",
    "<img src=\"./images/Bhaskaracharya/LimitZero.jpg\" width=\"500\">\n",
    "\n",
    "The above verse is a series of exercises for the student regarding zero. It says:\n",
    "Find (i) 5+0 (ii) the square of 0, the cube of 0, the square root of 0, the cuberoot of 0, (iii) 0x5 (iv) 10/0, (v) A certain number is multiplied by zero and added to half the result. If the sum so obtained is first multiplied by three and then divided by zero, the result is 63. Find the original number.\n",
    "\n",
    "The fifth case is of interest here. Looking at the earlier verses in the chapter, it is clear that Bhaskara is intuitively referring to what is called a limit. Using the rules from his earlier verses, the conditions in (v) can be expressed in the more familiar terminology of limits as:\n",
    "\n",
    "<img src=\"./images/Bhaskaracharya/LimitZeroEquation1.jpg\" width=\"200\">\n",
    "\n",
    "Which gives x = 14. This approach towards handling such tricky quantities forms the very foundation of differential calculus. Indeed, at another point in Siddhanta Shiromani, he explicitly demonstrates and makes use of the relation\n",
    "\n",
    "\\begin{equation}\n",
    "\\Delta \\sin\\theta = \\cos\\theta \\cdot \\Delta\\theta\n",
    "\\end{equation}\n",
    "\n",
    "to find the instantaneous velocity of a planet, which he calls *tatkalika gati* (the Sanskrit phrase for instantaneous velocity). Thus, Bhaskaracharya can be credited with laying the seeds of differential calculus.\n",
    "\n",
    "Moreover, in the section dealing with rules for handling zero, he says that any (finite) number divided by zero is such that it “remains immutable in form and concept both … and that any finite number added to it or subtracted from it will not alter its value.” Calling this ‘immutable’ as *khahara*, Bhaskaracharya gives a beautiful description of it in the *Bijaganita* in the chapter dealing with zero (chapter 2):\n",
    "\n",
    "<img src=\"./images/Bhaskaracharya/VishnuInfinity1.jpg\" width=\"500\">\n",
    "\n",
    "Which is translated as:\n",
    "\n",
    "“There is no change in infinite (*khahara*) figure if something is added to or subtracted from it. It is like: there is no change in the infinite Lord Vishnu (Almighty) due to the dissolution or creation of abounding living beings.”\n",
    "\n",
    "(5)  Then there is a section on quadratic equations containing the standard method of solving such equations, followed by several exercises for the student. One such exercise is\n",
    "\n",
    "<img src=\"./images/Bhaskaracharya/KrishnaArjunQuadratic1.jpg\" width=\"500\">\n",
    "\n",
    "Which translates to:\n",
    "\n",
    "“Arjuna became furious in the war and in order to kill Karna, picked up some arrows. With half the arrows, he destroyed all of Karna’s arrows. He killed all of Karna’s horses with four times the square root of the arrows. He destroyed the spear with six arrows. He used one arrow each to destroy the top of the chariot, the flag, and the bow of Karna. Finally he cut off Karna’s head with another arrow. How many arrows did Arjuna discharge?” (The answer is 100.)\n",
    "\n",
    "(6) In high school one is also taught arithmetic progressions, geometric progressions, permutations and combinations, and some other results such as the sum of the first n whole numbers, the sum of the squares of the first n whole numbers, and the sum of the cubes of the first n whole numbers. Well, all these results are fully described in the *Lilavati* along with a number of exercises for the student. Let me present here some examples:\n",
    "\n",
    "<img src=\"./images/Bhaskaracharya/First_n_sum1.jpg\" width=\"500\">\n",
    "\n",
    "which is basically the following two identities in verse form:\n",
    "\n",
    "\\begin{eqnarray}\n",
    "&&1+2+3+\\cdots + n = \\frac{n(n+1)}{2} \\nonumber \\\\\n",
    "&&1+(1+2)+(1+2+3)+\\cdots+(1+2+\\cdots+n) = \\frac{n(n+1)(n+2)}{6}\n",
    "\\end{eqnarray}\n",
    "\n",
    "\n"
   ]
  },
  {
   "cell_type": "markdown",
   "metadata": {},
   "source": [
    " "
   ]
  },
  {
   "cell_type": "code",
   "execution_count": null,
   "metadata": {},
   "outputs": [],
   "source": []
  }
 ],
 "metadata": {
  "kernelspec": {
   "display_name": "Python 3",
   "language": "python",
   "name": "python3"
  },
  "language_info": {
   "codemirror_mode": {
    "name": "ipython",
    "version": 3
   },
   "file_extension": ".py",
   "mimetype": "text/x-python",
   "name": "python",
   "nbconvert_exporter": "python",
   "pygments_lexer": "ipython3",
   "version": "3.6.8"
  }
 },
 "nbformat": 4,
 "nbformat_minor": 2
}
