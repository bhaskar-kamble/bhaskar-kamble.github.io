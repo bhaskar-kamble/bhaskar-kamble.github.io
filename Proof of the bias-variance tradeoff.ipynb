{
 "cells": [
  {
   "cell_type": "markdown",
   "metadata": {},
   "source": [
    "\\begin{eqnarray}\n",
    "MSE &=& E\\{({\\hat \\theta} - \\theta)^2\\} = E({\\hat \\theta}^2 - 2\\theta {\\hat \\theta} + \\theta^2) \\nonumber \\\\\n",
    "&=& E({\\hat \\theta}^2) -2\\theta E({\\hat \\theta}) + \\theta^2 \\nonumber \\\\\n",
    "&=& E({\\hat \\theta}^2) -2E({\\hat \\theta})^2 + E({\\hat \\theta})^2 \\nonumber \\\\\n",
    "&&-2\\theta E({\\hat \\theta}) + \\theta^2 + E({\\hat \\theta})^2 \\nonumber \\\\\n",
    "&=& E({\\hat \\theta}^2 -2{\\hat \\theta}E({\\hat \\theta}) + E({\\hat \\theta})^2) \\nonumber \\\\\n",
    "&&+ E({\\hat \\theta})^2 -2\\theta E({\\hat \\theta}) + \\theta^2 \\nonumber \\\\\n",
    "&=& E(({\\hat \\theta} - E({\\hat \\theta}))^2) \\nonumber \\\\\n",
    "&&+ (E({\\hat \\theta}) - \\theta)^2 \\nonumber \\\\\n",
    "&=& Var + Bias^2\n",
    "\\end{eqnarray}"
   ]
  },
  {
   "cell_type": "code",
   "execution_count": null,
   "metadata": {},
   "outputs": [],
   "source": []
  }
 ],
 "metadata": {
  "kernelspec": {
   "display_name": "Python 3",
   "language": "python",
   "name": "python3"
  },
  "language_info": {
   "codemirror_mode": {
    "name": "ipython",
    "version": 3
   },
   "file_extension": ".py",
   "mimetype": "text/x-python",
   "name": "python",
   "nbconvert_exporter": "python",
   "pygments_lexer": "ipython3",
   "version": "3.6.7"
  }
 },
 "nbformat": 4,
 "nbformat_minor": 2
}
