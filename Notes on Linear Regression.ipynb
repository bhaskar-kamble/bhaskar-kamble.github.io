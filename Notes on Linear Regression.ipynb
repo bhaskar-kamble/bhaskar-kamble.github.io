{
 "cells": [
  {
   "cell_type": "markdown",
   "metadata": {},
   "source": [
    "Suppose $a$ and $b$ are the best choices for a linear fit and we want to estimate them.\n",
    "\n",
    "$${\\hat y}_i = a+bx_i$$\n",
    "\n",
    "Definitions:\n",
    "\n",
    "Pg. 432 of Rosner:\n",
    "\n",
    "\\begin{eqnarray}\n",
    "L_{xx} &=& \\sum_{i=1}^n (x_i - {\\bar x})^2 = \\sum_{i=1}^n x_i^2 - \\frac{1}{n} \\left( \\sum_{i=1}^n x_i \\right)^2 \\nonumber \\\\\n",
    "L_{yy} &=& \\sum_{i=1}^n (y_i - {\\bar y})^2 = \\sum_{i=1}^n y_i^2 - \\frac{1}{n} \\left( \\sum_{i=1}^n y_i \\right)^2 \\nonumber \\\\\n",
    "L_{xy} &=& \\sum_{i=1}^n (x_i - {\\bar x})(y_i - {\\bar y}) = \\sum_{i=1}^n x_i y_i - \\frac{1}{n} \\left( \\sum_{i=1}^n x_i \\right)\\left( \\sum_{i=1}^n y_i \\right)\n",
    "\\end{eqnarray}"
   ]
  },
  {
   "cell_type": "markdown",
   "metadata": {},
   "source": [
    "Also from Page 4 of Rawlings and Sastry... the regression\n",
    "is also called\n",
    "\n",
    "$$y_i = \\beta_0 + \\beta_1 x_i + \\epsilon_i$$\n",
    "\n",
    "The estimated values of $\\beta_0$ and $\\beta_1$ are given by:\n",
    "\n",
    "\\begin{eqnarray}\n",
    "{\\hat \\beta_1} &=& \\frac{\\sum (x_i - {\\bar x})(y_i - {\\bar y})}{\\sum (x_i - {\\bar x})^2} \\nonumber \\\\\n",
    "{\\hat \\beta_0} &=& {\\bar y} - {\\hat \\beta_1}{\\bar x}\n",
    "\\end{eqnarray}"
   ]
  },
  {
   "cell_type": "markdown",
   "metadata": {},
   "source": [
    "From the definitions introduced by Rosner, we have:\n",
    "\n",
    "$$b = {\\beta}_1 = \\frac{L_{xy}}{L_{xx}} = \\frac{\\sum x_iy_i  -  \\frac{\\sum x_i \\sum y_i}{n}}{\\sum x_i^2 - \\frac{(\\sum x_i)^2}{n}}$$\n",
    "\n",
    "(see pg.4 of Sastry for the term on the extreme right)\n",
    "\n",
    "and\n",
    "\n",
    "$$a = {\\beta}_0 = {\\bar y} - b {\\bar x}$$\n",
    "\n",
    "We also have the **normal equations** (pg. 4 of Sastry):\n",
    "\n",
    "\\begin{eqnarray}\n",
    "n{\\hat \\beta_0} + \\left(\\sum x_i\\right){\\hat \\beta_1} &=& \\sum y_i \\nonumber \\\\\n",
    "\\left(\\sum x_i\\right){\\hat \\beta_0} + \\left(\\sum x_i^2\\right){\\hat \\beta_1} &=& \\sum x_iy_i\n",
    "\\end{eqnarray}"
   ]
  },
  {
   "cell_type": "markdown",
   "metadata": {},
   "source": [
    "The error terms are introduced as follows:\n",
    "\n",
    "$$y_i = {\\hat y_i} + \\epsilon_i$$"
   ]
  },
  {
   "cell_type": "markdown",
   "metadata": {},
   "source": [
    "Squaring the above gives:\n",
    "\n",
    "$$\\sum y_i^2 = \\sum ({\\hat y_i} + \\epsilon_i)^2$$\n",
    "\n",
    "$$= \\sum {\\hat y_i}^2 + 2\\sum {\\hat y_i} \\epsilon_i + \\sum \\epsilon_i^2$$"
   ]
  },
  {
   "cell_type": "markdown",
   "metadata": {},
   "source": [
    "## Exercise 1.22 of Sastry:\n",
    "### (a)\n",
    "Show that $\\sum x_iy_i = \\sum x_i {\\hat y_i}$\n",
    "\n",
    "Proof:\n",
    "\n",
    "$$\\sum x_i {\\hat y_i} = \\sum x_i (\\beta_0 + \\beta_1 x_i) = \\sum  \\beta_0 x_i + \\sum \\beta_1 x_i^2 = \\beta_0 \\sum   x_i + \\beta_1 \\sum  x_i^2$$\n",
    "\n",
    "The extreme right hand term is, from the second normal equation, equal to $\\sum x_i y_i$.\n",
    "\n",
    "Hence proved.\n",
    "\n",
    "### (b)\n",
    "Show that $\\sum x_i \\epsilon_i = 0$\n",
    "\n",
    "Proof:\n",
    "\n",
    "$$\\sum x_i \\epsilon_i = \\sum x_i (y_i - {\\hat y_i}) = \\sum x_i y_i - \\sum x_i {\\hat y}_i = 0$$\n",
    "\n",
    "which follows from part (a).\n",
    "\n",
    "### (c)\n",
    "Show that $\\sum {\\hat y_i} \\epsilon_i = 0$"
   ]
  },
  {
   "cell_type": "markdown",
   "metadata": {},
   "source": [
    "Proof:\n",
    "\n",
    "$\\sum {\\hat y_i} \\epsilon_i = \\sum (\\beta_0 + \\beta_1 x_i) \\epsilon_i = \\beta_0\\sum \\epsilon_i + \\beta_1 \\sum x_i \\epsilon_i$\n",
    "\n",
    "The first term on the extreme right hand side is anyway zero. The second term is zero from part (b).\n",
    "\n",
    "Hence proved."
   ]
  },
  {
   "cell_type": "markdown",
   "metadata": {},
   "source": [
    "Hence\n",
    "\n",
    "$$\\sum y_i^2 =  \\sum {\\hat y_i}^2 + \\sum \\epsilon_i^2$$"
   ]
  },
  {
   "cell_type": "code",
   "execution_count": null,
   "metadata": {},
   "outputs": [],
   "source": []
  }
 ],
 "metadata": {
  "kernelspec": {
   "display_name": "Python 3",
   "language": "python",
   "name": "python3"
  },
  "language_info": {
   "codemirror_mode": {
    "name": "ipython",
    "version": 3
   },
   "file_extension": ".py",
   "mimetype": "text/x-python",
   "name": "python",
   "nbconvert_exporter": "python",
   "pygments_lexer": "ipython3",
   "version": "3.6.7"
  }
 },
 "nbformat": 4,
 "nbformat_minor": 2
}
