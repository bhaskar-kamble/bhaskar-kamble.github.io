{
 "cells": [
  {
   "cell_type": "markdown",
   "metadata": {},
   "source": [
    "# Linear Regression with multiple variables\n",
    "\n",
    "The $i$-th observation of the variable $y$, called $y_i$, (with $i=1,2,\\cdots , N$, $N$ being the number of observations), is supposed to linearly depend on $M$ independent variables $x_l$ ($l=1,2,\\cdots M$), with $x_{li}$ being the $i$-th observation of the $l$-th variable. The $\\alpha$s are the coefficients of the linear model. We canshow this as follows\n",
    "\n",
    "\\begin{equation}\n",
    "{\\hat y}_i = \\sum_{l=0}^{M} \\alpha_l x_{li} \n",
    "\\end{equation}"
   ]
  },
  {
   "cell_type": "markdown",
   "metadata": {},
   "source": [
    "In the above, $x_{li}$ is defined to be 1 for $l=0$."
   ]
  },
  {
   "cell_type": "markdown",
   "metadata": {},
   "source": [
    "## Residual Sum of squares\n",
    "\n",
    "$RSS = \\sum_{i=1}^N (y_i - {\\hat y}_i)^2$\n",
    "\n",
    "\\begin{equation}\n",
    "RSS = \\sum_{i=1}^N \\left(y_i - \\sum_{m=0}^M \\alpha_m x_{mi}\\right)^2 \\nonumber \\\\\n",
    "RSS = \\sum_{i=1}^N \\left(    y_i^2 -2y_i  \\sum_{m=0}^M \\alpha_m x_{mi} + \\sum_{m,n} \\alpha_m \\alpha_n x_{mi}   x_{ni} \\right)\n",
    "\\end{equation}\n",
    "\n",
    "Condition for minimum: $\\frac{\\partial RSS }{ \\partial \\alpha_k} = 0$. Calculating this gives (using the fact that $\\frac{\\partial \\alpha_m}{\\partial \\alpha_k} = \\delta_{m,k}$):\n",
    "\n",
    "\\begin{equation}\n",
    "\\frac{\\partial RSS }{ \\partial \\alpha_k} = \\left( \\sum_{i=1}^N -2y_ix_{ki}  \\right) + \\sum_{i=1}^{N}\\sum_{m,n}(\\alpha_m \\delta_{n,k}+ \\alpha_n \\delta_{m,k})x_{mi}x_{ni}\n",
    "\\end{equation}\n",
    "\n",
    "which becomes:\n",
    "\n"
   ]
  },
  {
   "cell_type": "markdown",
   "metadata": {},
   "source": [
    "\\begin{equation}\n",
    "\\frac{\\partial RSS }{ \\partial \\alpha_k} = \\left( \\sum_{i=1}^N -2y_ix_{ki}  \\right) + \\sum_{i=1}^N \\left( 2\\sum_m \\alpha_m x_{mi}x_{ki} \\right) = 0\n",
    "\\end{equation}\n"
   ]
  },
  {
   "cell_type": "markdown",
   "metadata": {},
   "source": [
    "\\begin{equation}\n",
    "\\sum_{m=0}^M \\alpha_m \\sum_{i=1}^N x_{mi}x_{ki} = \\sum_{i=1}^N y_i x_{ki}\n",
    "\\end{equation}"
   ]
  },
  {
   "cell_type": "markdown",
   "metadata": {},
   "source": [
    "\\begin{equation}\n",
    "\\sum_{m=0}^M  \\left( \\sum_{i=1}^N x_{mi}x_{ki}\\right)\\alpha_m = \\sum_{i=1}^N y_i x_{ki}\n",
    "\\end{equation}\n",
    "\n",
    "The above is an equation which holds for each $k=0,1,2,\\cdots M$. (Reminder: $x_{0i}=1$)"
   ]
  },
  {
   "cell_type": "code",
   "execution_count": null,
   "metadata": {},
   "outputs": [],
   "source": []
  }
 ],
 "metadata": {
  "kernelspec": {
   "display_name": "Python 3",
   "language": "python",
   "name": "python3"
  },
  "language_info": {
   "codemirror_mode": {
    "name": "ipython",
    "version": 3
   },
   "file_extension": ".py",
   "mimetype": "text/x-python",
   "name": "python",
   "nbconvert_exporter": "python",
   "pygments_lexer": "ipython3",
   "version": "3.6.7"
  }
 },
 "nbformat": 4,
 "nbformat_minor": 2
}
