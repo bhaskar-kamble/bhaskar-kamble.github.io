{
 "cells": [
  {
   "cell_type": "markdown",
   "metadata": {},
   "source": [
    "\\begin{eqnarray}\n",
    "P(x)&=&A \\int x^2\\exp(-Bx^2)dx \\nonumber \\\\\n",
    "&=& A \\int x \\cdot x \\exp(-Bx^2)dx \\nonumber \\\\\n",
    "&=& A\\left[ x \\int x \\exp(-Bx^2)dx - \\int 1 \\cdot \\left( \\int x \\exp(-Bx^2)dx \\right) dx  \\right] \\nonumber \\\\\n",
    "&=& A\\left[ x \\int x \\exp(-Bx^2)dx - \\int 1 \\cdot \\left(\\frac{-1}{2B} \\right)\\exp(-Bx^2) dx  \\right] \\nonumber \\\\\n",
    "&=& A\\left[ x \\int x \\exp(-Bx^2)dx + \\frac{1}{2B} \\int  \\exp(-Bx^2) dx  \\right] \\nonumber \\\\\n",
    "&=& A\\left[ x \\left(\\frac{-1}{2B}\\right)  \\exp(-Bx^2) + \\frac{1}{2B} \\int  \\exp(-Bx^2) dx  \\right] \\nonumber \\\\\n",
    "&=& \\frac{A}{2B}\\int  \\exp(-Bx^2) dx \\nonumber \\\\\n",
    "&=& \\frac{A}{2B} \\sqrt{\\frac{\\pi}{B}} = \\sigma^2\n",
    "\\end{eqnarray}"
   ]
  },
  {
   "cell_type": "code",
   "execution_count": null,
   "metadata": {},
   "outputs": [],
   "source": []
  }
 ],
 "metadata": {
  "kernelspec": {
   "display_name": "Python 3",
   "language": "python",
   "name": "python3"
  },
  "language_info": {
   "codemirror_mode": {
    "name": "ipython",
    "version": 3
   },
   "file_extension": ".py",
   "mimetype": "text/x-python",
   "name": "python",
   "nbconvert_exporter": "python",
   "pygments_lexer": "ipython3",
   "version": "3.6.8"
  }
 },
 "nbformat": 4,
 "nbformat_minor": 2
}
