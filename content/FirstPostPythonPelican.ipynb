{
 "cells": [
  {
   "cell_type": "markdown",
   "metadata": {},
   "source": [
    "Endlich habe ich es geschafft: einen Blog auf Github zu erstellen. Zwar habe ich seit lang mit den Gedanken gespielt, so was zu tun, aber meine Stelle als Referendar an einer Schule in Berlin ließ mich mit kaum Zeit für etwas, das nicht direkt mit der Schule zu tun hat. Aber jetzt, da ich nicht mehr diese Einschränkung habe, habe ich endlich Zeit dafür gefunden.\n",
    "\n",
    "Die erste Frage, warum ein Blog auf Github? Ich habe schon eine eigene Webseite auf Wordpress und einen Blog auf Blogspot wo ich Materialien hochgeladen habe, die ich für meinen Unterricht entwickelt habe. Aber mit Wordpress oder Blogspot darf man kein Javascript benutzen. Da darf man keine Gleichungen in Latex schreiben. Auf der anderen Seite hatte ich schon Erfahrungen mit Erfahrungen mit Github gemacht und habe viele Blogs und Webseite gesehen, die auf Github erstellt/hosted worden sind.\n",
    "\n",
    "Die ersten Untersuchungen auf dem Internet haben mir von Jekyll bewusst gemacht, mit dessen Hilfe man einen Blog oder eine Webseite auf Github erstellen kann. Man kann auch Markdown benutzen, um den chreibstil zu modizifieren und Gleichungen in Latex zu schreiben. Danach habe ich tatsächlich eine Webseite auf Github mithilfe von Jekyll erstellt. Die Anleitungen habe ich von dieser hervorragenden Seite bekommen.\n",
    "\n",
    "Aber dann bin von einem anderen Problem bewusst gewesen. Anders gesagt, bin ich von einer anderen Möglichkeit bewusst gewesen. Ich hatte schon Erfahrung mit dem IPython Jupyter Notebook gemacht und war mit seinen Fähigkeiten total beeindruckt. Ich habe erinnerte irgendwo gelesen zu haben, dass man diesen Notebook zusammen mit einem Blog benutzen kann. (Zwar ähnelt der IPython Notebook zum Teil dem RMarkdown Dokumente in RStudio, aber ich bin nicht sicher, ob das letztere kann im Zusammenhang mit einem Blog oder einer Webseite benutzen kann. Na ja, meine Sprache ist Python und nicht R, deshalb ist diese Frage auch irrelevant.) Ich hatte auch inzwischen didaktische, interaktive Software entwickelt, die alle ich in Python geschrieben habe. Deshalb war diese Möglichkeit für mich von Interesse. Nachdem ich auf dem Internet ein bisschen erkundet habe, ist es mir bekannt geworden, dass an statt Jekyll ist Pelican total geeignet, die Kraft von Python und dem Jupyter Notebook in einem Blog oder einer Webseite zu verwenden.\n",
    "\n",
    "Das war begeisternd, und ich war noch mehr begeistert, als diese Webseite gesehen habe, wo die Anleitungen zum Erstellen eines Blogs mithilfe Pelicans und Gthubs deutlich beschrieben werden sind. Trotzdem hat es mir 2 Tage gedauert, bis ich diesen Blog verwirklichen konnte. (Viele Probleme sind von den unterschiedlichen Versionen vom Python verursacht worden. Zum Beispiel in meinem Ubuntu 16.04 ist Python2.7 die default Version von Python, während zum Zweck des Erstellens dieses Blogs war Python3.5 oder höher nötig. Die habe ich separat installiert, aber es gab Kompatibilitätsprobleme zwischen diesen Versionen wenn ich die nötigen Packages installiert habe.) Jetzt ist es gemacht und ich bin wirklich begeistert nachzuschauen, was alles möglich ist. Bald muss ich an den Plugins denken, die brauche, z.B. um Kommnets zu ermöglichen usw. Aber jetzt will ich einige einfacheren Sachen ausprobieren.\n",
    "\n",
    "### Markdown\n",
    "\n",
    "Zuerst möchte ich nachschauen, [markdown](https://github.com/adam-p/markdown-here/wiki/Markdown-Cheatsheet) funktioniert. Hier funktioniert der Link offentsichtilich und auch der Titel, dessen Größe man mit '#' kontrollieren kann. Nächstes möchte ich Liste ausprobieren, die man mit * erstellen kann.\n",
    "\n",
    "* Item 1\n",
    "* Item 2\n",
    "* Item 3\n",
    "\n",
    "Oder nummereierte Liste:\n",
    "\n",
    "1. Item 1\n",
    "2. Item 2\n",
    "4. Item 3\n",
    "\n",
    "Außerdem kann man Codelines mit \"back-ticks\" kennzeichnen. Zum Beispiel `y=np.sin(x)`.\n",
    "\n",
    "Man kann auch Tabelle erstellen. Zum Beispiel:\n",
    "\n",
    "| Col1        | Col2           | Col3  |\n",
    "| ------------|----------------|-------|\n",
    "| a(1,1)      | a(1,2)         |a(1,3) |\n",
    "| a(2,1)      | a(2,2)         | a(2,3)|\n",
    "| a(3,1)      | a(3,2)         | a(3,3)|\n",
    "\n",
    "\n",
    "### Latex\n",
    "\n",
    "Ok, Markdown funktioniert. Lass mich jetzt Latex ausprobieren. Wenn ich das folgende schreibe\n",
    "\n",
    "`\\begin{equation}\n",
    "H = \\hbar\\omega \\left( n + \\frac{1}{2}\\right)\n",
    "\\end{equation},`\n",
    "dann bekomme ich:\n",
    "\\begin{equation}\n",
    "H = \\hbar\\omega \\left( n + \\frac{1}{2}\\right)\n",
    "\\end{equation}\n",
    "\n",
    "Also sehr gut! Latex funktioniert auch."
   ]
  },
  {
   "cell_type": "code",
   "execution_count": 21,
   "metadata": {},
   "outputs": [
    {
     "data": {
      "text/plain": [
       "[<matplotlib.lines.Line2D at 0x7fb7f7d3c9d0>]"
      ]
     },
     "execution_count": 21,
     "metadata": {},
     "output_type": "execute_result"
    },
    {
     "data": {
      "image/png": "[encoded data removed]",
      "text/plain": [
       "<matplotlib.figure.Figure at 0x7fb7f7df4310>"
      ]
     },
     "metadata": {},
     "output_type": "display_data"
    }
   ],
   "source": [
    "import matplotlib.pyplot as plt\n",
    "\n",
    "import numpy as np\n",
    "\n",
    "x=np.linspace(0,8.0*np.pi,51)\n",
    "\n",
    "plt.plot(x,np.sin(x))"
   ]
  },
  {
   "cell_type": "code",
   "execution_count": null,
   "metadata": {
    "collapsed": true
   },
   "outputs": [],
   "source": []
  }
 ],
 "metadata": {
  "kernelspec": {
   "display_name": "Python 3",
   "language": "python",
   "name": "python3"
  },
  "language_info": {
   "codemirror_mode": {
    "name": "ipython",
    "version": 3
   },
   "file_extension": ".py",
   "mimetype": "text/x-python",
   "name": "python",
   "nbconvert_exporter": "python",
   "pygments_lexer": "ipython3",
   "version": "3.6.3"
  }
 },
 "nbformat": 4,
 "nbformat_minor": 2
}
