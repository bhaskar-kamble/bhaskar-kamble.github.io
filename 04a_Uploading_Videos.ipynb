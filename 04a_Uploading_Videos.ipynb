{
 "cells": [
  {
   "cell_type": "markdown",
   "metadata": {},
   "source": [
    "# YouTube Videos\n",
    "\n",
    "First follow [these](http://www.simplehtmlguide.com/youtube.php) four steps:\n",
    "\n",
    "1. Use the youtube site to find the video you want\n",
    "2. Click the 'Share' button below the video\n",
    "3. Click the 'Embed' button next to the link they show you\n",
    "4. Copy the iframe code given and paste it into the html of your web page.\n",
    "\n",
    "\n",
    "Dann den iframe-Kode direkt in einem Cell einfügen. Der Kode wird nicht sichtbar sein aber das Video ist auf dem Blog zu sehen. (In meinen Jupyter Notebook sehe ich das Video nicht. Erst wenn ich die html Datei mit Pelican generiert habe, sehe ich das Video in meinem Browser.)\n",
    "\n",
    "<iframe width=\"560\" height=\"315\" src=\"https://www.youtube.com/embed/el0qsxkgSaI\" frameborder=\"0\" gesture=\"media\" allow=\"encrypted-media\" allowfullscreen></iframe>"
   ]
  },
  {
   "cell_type": "markdown",
   "metadata": {},
   "source": [
    "Wie gesagt, zeigt Jupyter Notebook mit der oben genannten Methode das Video nicht. Was ist zu tun, wenn man das Video auf Jupyter Notebook zeigen möchte? In diesem Fall soll der folgende Kode (mit Celltype \"Code\") benutzt werden:\n",
    "\n",
    "<img src = \"./images/HTML_command_YouTube_Video.png\">"
   ]
  },
  {
   "cell_type": "markdown",
   "metadata": {},
   "source": [
    "Im zweiten Befehl oben steht der iframe Code in Klammern."
   ]
  },
  {
   "cell_type": "markdown",
   "metadata": {},
   "source": [
    "# Eigene Videos"
   ]
  },
  {
   "cell_type": "markdown",
   "metadata": {},
   "source": [
    "Erst habe ich versucht der Anleitung von [dieser](http://nbviewer.jupyter.org/github/ipython/ipython/blob/1.x/examples/notebooks/Part%205%20-%20Rich%20Display%20System.ipynb#Video) Seite zu folgen. Zwar konnte man das Video mithilfe des Kodes ansehen, aber es gab auch zusätzlich eine komische Nachricht dabei. Deshalb habe ich einige Ideen von [diesen](https://stackoverflow.com/questions/18019477/how-can-i-play-a-local-video-in-my-ipython-notebook) Antworten eingesetzt, um ein Video in einem Blogpost einzubetten. Die Idee ist einfach den folgenden html Kode in einem Cell (mit cell-type \"markdown\") zu schreiben:\n",
    "\n",
    "<img src=\"./images/videoembedding.png\" width=\"500\">\n",
    "\n",
    "Zum Beispiel ich habe das folgende Video hier eingebettet, wo ich [die Reflexion einer Wasserwelle](https://bhaskarkamble.com/physics/reflections/) simuliert habe.\n",
    "\n",
    "<video width=\"320\" height=\"240\" controls>\n",
    "  <source src=\"./images/wavereflection.mp4\" type=\"video/mp4\">\n",
    "</video>\n",
    "\n"
   ]
  },
  {
   "cell_type": "markdown",
   "metadata": {},
   "source": [
    "# Audio Files\n",
    "\n",
    "Stück eines Lieds von Jethro Tull (Roll Yer Own, Album: Catfish Rising), das ich mit der Software Guitarpro transkribiert habe):\n",
    "\n",
    "<audio controls>\n",
    "  <source src=\"./images/Roll_Yer_Own_v8_amplified.mp3\">\n",
    "</audio>\n",
    "\n",
    "Ein selbstkomponiertes Lied (Silent Screams):\n",
    "\n",
    "<audio controls>\n",
    "  <source src=\"./images/SilentScreams_BhaskarKamble_Original.mp3\">\n",
    "</audio>"
   ]
  },
  {
   "cell_type": "code",
   "execution_count": null,
   "metadata": {},
   "outputs": [],
   "source": []
  }
 ],
 "metadata": {
  "kernelspec": {
   "display_name": "Python 2",
   "language": "python",
   "name": "python2"
  },
  "language_info": {
   "codemirror_mode": {
    "name": "ipython",
    "version": 2
   },
   "file_extension": ".py",
   "mimetype": "text/x-python",
   "name": "python",
   "nbconvert_exporter": "python",
   "pygments_lexer": "ipython2",
   "version": "2.7.12"
  }
 },
 "nbformat": 4,
 "nbformat_minor": 2
}
